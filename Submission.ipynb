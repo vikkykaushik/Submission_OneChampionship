{
 "cells": [
  {
   "cell_type": "code",
   "execution_count": 1,
   "metadata": {},
   "outputs": [],
   "source": [
    "import pandas as pd\n",
    "import matplotlib.pyplot as plt\n",
    "%matplotlib inline\n",
    "import seaborn as sns\n",
    "pd.pandas.set_option('display.max_columns',None)\n",
    "data=pd.read_csv(\"C:\\\\Users\\\\vkaush2\\\\Desktop\\\\data.csv\")"
   ]
  },
  {
   "cell_type": "markdown",
   "metadata": {},
   "source": [
    "### *Data Analysis*"
   ]
  },
  {
   "cell_type": "code",
   "execution_count": 2,
   "metadata": {},
   "outputs": [
    {
     "data": {
      "text/html": [
       "<div>\n",
       "<style scoped>\n",
       "    .dataframe tbody tr th:only-of-type {\n",
       "        vertical-align: middle;\n",
       "    }\n",
       "\n",
       "    .dataframe tbody tr th {\n",
       "        vertical-align: top;\n",
       "    }\n",
       "\n",
       "    .dataframe thead th {\n",
       "        text-align: right;\n",
       "    }\n",
       "</style>\n",
       "<table border=\"1\" class=\"dataframe\">\n",
       "  <thead>\n",
       "    <tr style=\"text-align: right;\">\n",
       "      <th></th>\n",
       "      <th>Person Id</th>\n",
       "      <th>Floor Access DateTime</th>\n",
       "      <th>Floor Level</th>\n",
       "      <th>Building</th>\n",
       "    </tr>\n",
       "  </thead>\n",
       "  <tbody>\n",
       "    <tr>\n",
       "      <th>0</th>\n",
       "      <td>1</td>\n",
       "      <td>10/1/15 8:02</td>\n",
       "      <td>6</td>\n",
       "      <td>B</td>\n",
       "    </tr>\n",
       "    <tr>\n",
       "      <th>1</th>\n",
       "      <td>2</td>\n",
       "      <td>10/1/15 8:02</td>\n",
       "      <td>5</td>\n",
       "      <td>C</td>\n",
       "    </tr>\n",
       "    <tr>\n",
       "      <th>2</th>\n",
       "      <td>3</td>\n",
       "      <td>10/1/15 8:03</td>\n",
       "      <td>1</td>\n",
       "      <td>C</td>\n",
       "    </tr>\n",
       "    <tr>\n",
       "      <th>3</th>\n",
       "      <td>4</td>\n",
       "      <td>10/1/15 8:04</td>\n",
       "      <td>9</td>\n",
       "      <td>A</td>\n",
       "    </tr>\n",
       "    <tr>\n",
       "      <th>4</th>\n",
       "      <td>5</td>\n",
       "      <td>10/1/15 8:04</td>\n",
       "      <td>6</td>\n",
       "      <td>B</td>\n",
       "    </tr>\n",
       "  </tbody>\n",
       "</table>\n",
       "</div>"
      ],
      "text/plain": [
       "   Person Id Floor Access DateTime  Floor Level Building\n",
       "0          1          10/1/15 8:02            6        B\n",
       "1          2          10/1/15 8:02            5        C\n",
       "2          3          10/1/15 8:03            1        C\n",
       "3          4          10/1/15 8:04            9        A\n",
       "4          5          10/1/15 8:04            6        B"
      ]
     },
     "execution_count": 2,
     "metadata": {},
     "output_type": "execute_result"
    }
   ],
   "source": [
    "data.head()"
   ]
  },
  {
   "cell_type": "code",
   "execution_count": 3,
   "metadata": {},
   "outputs": [
    {
     "name": "stdout",
     "output_type": "stream",
     "text": [
      "<class 'pandas.core.frame.DataFrame'>\n",
      "RangeIndex: 25152 entries, 0 to 25151\n",
      "Data columns (total 4 columns):\n",
      "Person Id                25152 non-null int64\n",
      "Floor Access DateTime    25152 non-null object\n",
      "Floor Level              25152 non-null int64\n",
      "Building                 25152 non-null object\n",
      "dtypes: int64(2), object(2)\n",
      "memory usage: 786.1+ KB\n"
     ]
    }
   ],
   "source": [
    "data.info()"
   ]
  },
  {
   "cell_type": "code",
   "execution_count": 4,
   "metadata": {},
   "outputs": [
    {
     "data": {
      "text/plain": [
       "array(['B', 'C', 'A'], dtype=object)"
      ]
     },
     "execution_count": 4,
     "metadata": {},
     "output_type": "execute_result"
    }
   ],
   "source": [
    "data['Building'].unique()"
   ]
  },
  {
   "cell_type": "code",
   "execution_count": 5,
   "metadata": {},
   "outputs": [
    {
     "data": {
      "text/plain": [
       "array([ 6,  5,  1,  9, 10,  4,  8,  7,  3,  2], dtype=int64)"
      ]
     },
     "execution_count": 5,
     "metadata": {},
     "output_type": "execute_result"
    }
   ],
   "source": [
    "data['Floor Level'].unique()"
   ]
  },
  {
   "cell_type": "markdown",
   "metadata": {},
   "source": [
    "### *Perfoming some Explaratory data analysis*"
   ]
  },
  {
   "cell_type": "code",
   "execution_count": 6,
   "metadata": {
    "scrolled": true
   },
   "outputs": [
    {
     "data": {
      "image/png": "[encoded data removed]",
      "text/plain": [
       "<Figure size 1008x432 with 1 Axes>"
      ]
     },
     "metadata": {
      "needs_background": "light"
     },
     "output_type": "display_data"
    }
   ],
   "source": [
    "def bar_chart(feature):\n",
    "    BuildingA=data[data['Building']=='A'][feature].value_counts()\n",
    "    BuildingB=data[data['Building']=='B'][feature].value_counts()\n",
    "    BuildingC=data[data['Building']=='C'][feature].value_counts()\n",
    "    df=pd.DataFrame([BuildingA,BuildingB,BuildingC])\n",
    "    df.index = ['BuildingA','BuildingB','BuildingC']\n",
    "    df.plot(kind='bar',figsize=(14,6))\n",
    "bar_chart('Floor Level')"
   ]
  },
  {
   "cell_type": "markdown",
   "metadata": {},
   "source": [
    "### *Code to convert csv file to json format*"
   ]
  },
  {
   "cell_type": "code",
   "execution_count": 7,
   "metadata": {},
   "outputs": [],
   "source": [
    "import csv\n",
    "import json\n",
    "\n",
    "file = 'C:\\\\Users\\\\vkaush2\\\\Desktop\\\\data.csv'\n",
    "json_file = 'C:\\\\Users\\\\vkaush2\\\\Desktop\\\\output_file_name.json'\n",
    "\n",
    "#Read CSV File\n",
    "def read_CSV(file, json_file):\n",
    "    csv_rows = []\n",
    "    with open(file) as csvfile:\n",
    "        reader = csv.DictReader(csvfile)\n",
    "        field = reader.fieldnames\n",
    "        for row in reader:\n",
    "            csv_rows.extend([{field[i]:row[field[i]] for i in range(len(field))}])\n",
    "        convert_write_json(csv_rows, json_file)\n",
    "\n",
    "#Convert csv data into json\n",
    "def convert_write_json(data, json_file):\n",
    "    with open(json_file, \"w\") as f:\n",
    "        f.write(json.dumps(data, sort_keys=False, indent=4, separators=(',', ': '))) #for pretty\n",
    "        f.write(json.dumps(data))\n",
    "\n",
    "\n",
    "read_CSV(file,json_file)"
   ]
  },
  {
   "cell_type": "code",
   "execution_count": null,
   "metadata": {},
   "outputs": [],
   "source": []
  }
 ],
 "metadata": {
  "kernelspec": {
   "display_name": "Python 3",
   "language": "python",
   "name": "python3"
  },
  "language_info": {
   "codemirror_mode": {
    "name": "ipython",
    "version": 3
   },
   "file_extension": ".py",
   "mimetype": "text/x-python",
   "name": "python",
   "nbconvert_exporter": "python",
   "pygments_lexer": "ipython3",
   "version": "3.7.7"
  }
 },
 "nbformat": 4,
 "nbformat_minor": 4
}
